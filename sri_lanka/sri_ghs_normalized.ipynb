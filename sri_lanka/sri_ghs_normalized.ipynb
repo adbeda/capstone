{
 "cells": [
  {
   "cell_type": "markdown",
   "metadata": {},
   "source": [
    "## Spatial Features Vs Urban Footprint Vs Population Size"
   ]
  },
  {
   "cell_type": "code",
   "execution_count": 1,
   "metadata": {},
   "outputs": [],
   "source": [
    "import sklearn\n",
    "import pandas as pd\n",
    "import numpy as np\n",
    "import csv\n",
    "import scipy.stats as stats\n",
    "from statistics import pstdev\n",
    "from statistics import mean\n",
    "from sklearn import preprocessing\n",
    "from sklearn.linear_model import ElasticNetCV\n",
    "from sklearn.linear_model import ElasticNet, Lasso\n",
    "from sklearn.datasets import make_regression\n",
    "from sklearn.preprocessing import scale\n",
    "from sklearn.model_selection import train_test_split\n",
    "from sklearn.model_selection import cross_val_score\n",
    "from itertools import product\n",
    "import copy\n",
    "import geopandas as gpd\n",
    "from sklearn.metrics import mean_squared_error as mse\n",
    "from sklearn.metrics import mean_absolute_error as mae"
   ]
  },
  {
   "cell_type": "code",
   "execution_count": 2,
   "metadata": {},
   "outputs": [],
   "source": [
    "np.random.seed(12345)"
   ]
  },
  {
   "cell_type": "markdown",
   "metadata": {},
   "source": [
    "### Read the Features data"
   ]
  },
  {
   "cell_type": "code",
   "execution_count": 3,
   "metadata": {},
   "outputs": [],
   "source": [
    "spfeas = pd.read_excel('sri_spfeas_v3.xlsx', sheet_name=0)"
   ]
  },
  {
   "cell_type": "code",
   "execution_count": 4,
   "metadata": {
    "scrolled": false
   },
   "outputs": [],
   "source": [
    "#Ensure that the GN_Code field is of type int and make it the index\n",
    "spfeas['gid'] = spfeas['gid'].astype(int)\n",
    "spfeas = spfeas.set_index('gid')"
   ]
  },
  {
   "cell_type": "code",
   "execution_count": 5,
   "metadata": {},
   "outputs": [
    {
     "data": {
      "text/html": [
       "<div>\n",
       "<style scoped>\n",
       "    .dataframe tbody tr th:only-of-type {\n",
       "        vertical-align: middle;\n",
       "    }\n",
       "\n",
       "    .dataframe tbody tr th {\n",
       "        vertical-align: top;\n",
       "    }\n",
       "\n",
       "    .dataframe thead th {\n",
       "        text-align: right;\n",
       "    }\n",
       "</style>\n",
       "<table border=\"1\" class=\"dataframe\">\n",
       "  <thead>\n",
       "    <tr style=\"text-align: right;\">\n",
       "      <th></th>\n",
       "      <th>fid</th>\n",
       "      <th>gnd_n</th>\n",
       "      <th>gnd_c</th>\n",
       "      <th>fourier_sc31_mean_mean</th>\n",
       "      <th>fourier_sc31_mean_std</th>\n",
       "      <th>fourier_sc31_mean_sum</th>\n",
       "      <th>fourier_sc31_variance_mean</th>\n",
       "      <th>fourier_sc31_variance_std</th>\n",
       "      <th>fourier_sc31_variance_sum</th>\n",
       "      <th>fourier_sc51_mean_mean</th>\n",
       "      <th>...</th>\n",
       "      <th>sfs_sc71_min_ll_sum</th>\n",
       "      <th>sfs_sc71_roa_mean</th>\n",
       "      <th>sfs_sc71_roa_std</th>\n",
       "      <th>sfs_sc71_roa_sum</th>\n",
       "      <th>sfs_sc71_std_mean</th>\n",
       "      <th>sfs_sc71_std_std</th>\n",
       "      <th>sfs_sc71_std_sum</th>\n",
       "      <th>sfs_sc71_w_mean_mean</th>\n",
       "      <th>sfs_sc71_w_mean_std</th>\n",
       "      <th>sfs_sc71_w_mean_sum</th>\n",
       "    </tr>\n",
       "    <tr>\n",
       "      <th>gid</th>\n",
       "      <th></th>\n",
       "      <th></th>\n",
       "      <th></th>\n",
       "      <th></th>\n",
       "      <th></th>\n",
       "      <th></th>\n",
       "      <th></th>\n",
       "      <th></th>\n",
       "      <th></th>\n",
       "      <th></th>\n",
       "      <th></th>\n",
       "      <th></th>\n",
       "      <th></th>\n",
       "      <th></th>\n",
       "      <th></th>\n",
       "      <th></th>\n",
       "      <th></th>\n",
       "      <th></th>\n",
       "      <th></th>\n",
       "      <th></th>\n",
       "      <th></th>\n",
       "    </tr>\n",
       "  </thead>\n",
       "  <tbody>\n",
       "    <tr>\n",
       "      <th>43</th>\n",
       "      <td>0</td>\n",
       "      <td>Karagaskada South</td>\n",
       "      <td>2148065</td>\n",
       "      <td>69.453586</td>\n",
       "      <td>3.136141</td>\n",
       "      <td>2.376702e+05</td>\n",
       "      <td>18.629130</td>\n",
       "      <td>0.976240</td>\n",
       "      <td>6.374888e+04</td>\n",
       "      <td>78.493900</td>\n",
       "      <td>...</td>\n",
       "      <td>3933</td>\n",
       "      <td>136.394391</td>\n",
       "      <td>0.938602</td>\n",
       "      <td>466878</td>\n",
       "      <td>16.233955</td>\n",
       "      <td>3.648450</td>\n",
       "      <td>55568.828125</td>\n",
       "      <td>1.228705</td>\n",
       "      <td>0.707158</td>\n",
       "      <td>4205.858398</td>\n",
       "    </tr>\n",
       "    <tr>\n",
       "      <th>564</th>\n",
       "      <td>1</td>\n",
       "      <td>Panvila</td>\n",
       "      <td>2115070</td>\n",
       "      <td>59.535572</td>\n",
       "      <td>7.845283</td>\n",
       "      <td>1.400872e+06</td>\n",
       "      <td>17.086123</td>\n",
       "      <td>2.204723</td>\n",
       "      <td>4.020365e+05</td>\n",
       "      <td>69.651317</td>\n",
       "      <td>...</td>\n",
       "      <td>40076188</td>\n",
       "      <td>137.910516</td>\n",
       "      <td>2.093903</td>\n",
       "      <td>3245724</td>\n",
       "      <td>14.498129</td>\n",
       "      <td>5.118067</td>\n",
       "      <td>341213.468750</td>\n",
       "      <td>2.838843</td>\n",
       "      <td>3.471181</td>\n",
       "      <td>66812.164062</td>\n",
       "    </tr>\n",
       "    <tr>\n",
       "      <th>7917</th>\n",
       "      <td>2</td>\n",
       "      <td>Ganepalla</td>\n",
       "      <td>9227135</td>\n",
       "      <td>50.730112</td>\n",
       "      <td>5.682764</td>\n",
       "      <td>3.625884e+06</td>\n",
       "      <td>14.450501</td>\n",
       "      <td>2.109653</td>\n",
       "      <td>1.032835e+06</td>\n",
       "      <td>60.710447</td>\n",
       "      <td>...</td>\n",
       "      <td>7900571136</td>\n",
       "      <td>139.556597</td>\n",
       "      <td>2.014015</td>\n",
       "      <td>9974110</td>\n",
       "      <td>9.856942</td>\n",
       "      <td>7.202832</td>\n",
       "      <td>704475.625000</td>\n",
       "      <td>3.388618</td>\n",
       "      <td>5.864246</td>\n",
       "      <td>242184.515625</td>\n",
       "    </tr>\n",
       "    <tr>\n",
       "      <th>2263</th>\n",
       "      <td>3</td>\n",
       "      <td>Akkaraipattu 11</td>\n",
       "      <td>5236065</td>\n",
       "      <td>73.670361</td>\n",
       "      <td>1.821871</td>\n",
       "      <td>9.731855e+04</td>\n",
       "      <td>18.843218</td>\n",
       "      <td>1.231690</td>\n",
       "      <td>2.489189e+04</td>\n",
       "      <td>82.544710</td>\n",
       "      <td>...</td>\n",
       "      <td>1331</td>\n",
       "      <td>136.077853</td>\n",
       "      <td>0.267941</td>\n",
       "      <td>180031</td>\n",
       "      <td>10.558998</td>\n",
       "      <td>4.329045</td>\n",
       "      <td>13969.554688</td>\n",
       "      <td>0.514668</td>\n",
       "      <td>0.239074</td>\n",
       "      <td>680.906372</td>\n",
       "    </tr>\n",
       "    <tr>\n",
       "      <th>8</th>\n",
       "      <td>4</td>\n",
       "      <td>Delgasthenna</td>\n",
       "      <td>2109125</td>\n",
       "      <td>66.878083</td>\n",
       "      <td>2.710715</td>\n",
       "      <td>2.657735e+05</td>\n",
       "      <td>18.708531</td>\n",
       "      <td>1.015577</td>\n",
       "      <td>7.434770e+04</td>\n",
       "      <td>75.957167</td>\n",
       "      <td>...</td>\n",
       "      <td>4809</td>\n",
       "      <td>136.681028</td>\n",
       "      <td>1.377590</td>\n",
       "      <td>542487</td>\n",
       "      <td>15.218429</td>\n",
       "      <td>4.465160</td>\n",
       "      <td>60401.945312</td>\n",
       "      <td>1.180995</td>\n",
       "      <td>0.868924</td>\n",
       "      <td>4687.369141</td>\n",
       "    </tr>\n",
       "  </tbody>\n",
       "</table>\n",
       "<p>5 rows × 426 columns</p>\n",
       "</div>"
      ],
      "text/plain": [
       "      fid              gnd_n    gnd_c  fourier_sc31_mean_mean  \\\n",
       "gid                                                             \n",
       "43      0  Karagaskada South  2148065               69.453586   \n",
       "564     1            Panvila  2115070               59.535572   \n",
       "7917    2          Ganepalla  9227135               50.730112   \n",
       "2263    3    Akkaraipattu 11  5236065               73.670361   \n",
       "8       4       Delgasthenna  2109125               66.878083   \n",
       "\n",
       "      fourier_sc31_mean_std  fourier_sc31_mean_sum  \\\n",
       "gid                                                  \n",
       "43                 3.136141           2.376702e+05   \n",
       "564                7.845283           1.400872e+06   \n",
       "7917               5.682764           3.625884e+06   \n",
       "2263               1.821871           9.731855e+04   \n",
       "8                  2.710715           2.657735e+05   \n",
       "\n",
       "      fourier_sc31_variance_mean  fourier_sc31_variance_std  \\\n",
       "gid                                                           \n",
       "43                     18.629130                   0.976240   \n",
       "564                    17.086123                   2.204723   \n",
       "7917                   14.450501                   2.109653   \n",
       "2263                   18.843218                   1.231690   \n",
       "8                      18.708531                   1.015577   \n",
       "\n",
       "      fourier_sc31_variance_sum  fourier_sc51_mean_mean  ...  \\\n",
       "gid                                                      ...   \n",
       "43                 6.374888e+04               78.493900  ...   \n",
       "564                4.020365e+05               69.651317  ...   \n",
       "7917               1.032835e+06               60.710447  ...   \n",
       "2263               2.489189e+04               82.544710  ...   \n",
       "8                  7.434770e+04               75.957167  ...   \n",
       "\n",
       "      sfs_sc71_min_ll_sum  sfs_sc71_roa_mean  sfs_sc71_roa_std  \\\n",
       "gid                                                              \n",
       "43                   3933         136.394391          0.938602   \n",
       "564              40076188         137.910516          2.093903   \n",
       "7917           7900571136         139.556597          2.014015   \n",
       "2263                 1331         136.077853          0.267941   \n",
       "8                    4809         136.681028          1.377590   \n",
       "\n",
       "      sfs_sc71_roa_sum  sfs_sc71_std_mean  sfs_sc71_std_std  sfs_sc71_std_sum  \\\n",
       "gid                                                                             \n",
       "43              466878          16.233955          3.648450      55568.828125   \n",
       "564            3245724          14.498129          5.118067     341213.468750   \n",
       "7917           9974110           9.856942          7.202832     704475.625000   \n",
       "2263            180031          10.558998          4.329045      13969.554688   \n",
       "8               542487          15.218429          4.465160      60401.945312   \n",
       "\n",
       "      sfs_sc71_w_mean_mean  sfs_sc71_w_mean_std  sfs_sc71_w_mean_sum  \n",
       "gid                                                                   \n",
       "43                1.228705             0.707158          4205.858398  \n",
       "564               2.838843             3.471181         66812.164062  \n",
       "7917              3.388618             5.864246        242184.515625  \n",
       "2263              0.514668             0.239074           680.906372  \n",
       "8                 1.180995             0.868924          4687.369141  \n",
       "\n",
       "[5 rows x 426 columns]"
      ]
     },
     "execution_count": 5,
     "metadata": {},
     "output_type": "execute_result"
    }
   ],
   "source": [
    "spfeas.head()"
   ]
  },
  {
   "cell_type": "code",
   "execution_count": 6,
   "metadata": {},
   "outputs": [
    {
     "data": {
      "text/html": [
       "<div>\n",
       "<style scoped>\n",
       "    .dataframe tbody tr th:only-of-type {\n",
       "        vertical-align: middle;\n",
       "    }\n",
       "\n",
       "    .dataframe tbody tr th {\n",
       "        vertical-align: top;\n",
       "    }\n",
       "\n",
       "    .dataframe thead th {\n",
       "        text-align: right;\n",
       "    }\n",
       "</style>\n",
       "<table border=\"1\" class=\"dataframe\">\n",
       "  <thead>\n",
       "    <tr style=\"text-align: right;\">\n",
       "      <th></th>\n",
       "      <th>gnd_n</th>\n",
       "      <th>gnd_c</th>\n",
       "      <th>prov_c</th>\n",
       "      <th>dis_c</th>\n",
       "      <th>dsd_c</th>\n",
       "      <th>ghs_count</th>\n",
       "      <th>ghs_sum</th>\n",
       "      <th>ghs_mean</th>\n",
       "      <th>Shape_Area</th>\n",
       "      <th>geometry</th>\n",
       "    </tr>\n",
       "    <tr>\n",
       "      <th>gid</th>\n",
       "      <th></th>\n",
       "      <th></th>\n",
       "      <th></th>\n",
       "      <th></th>\n",
       "      <th></th>\n",
       "      <th></th>\n",
       "      <th></th>\n",
       "      <th></th>\n",
       "      <th></th>\n",
       "      <th></th>\n",
       "    </tr>\n",
       "  </thead>\n",
       "  <tbody>\n",
       "    <tr>\n",
       "      <th>43</th>\n",
       "      <td>Karagaskada South</td>\n",
       "      <td>2148065</td>\n",
       "      <td>2</td>\n",
       "      <td>21</td>\n",
       "      <td>2148</td>\n",
       "      <td>235.0</td>\n",
       "      <td>635.0</td>\n",
       "      <td>2.702128</td>\n",
       "      <td>342335.19</td>\n",
       "      <td>POLYGON ((80.70650072195758 7.176928435503455,...</td>\n",
       "    </tr>\n",
       "    <tr>\n",
       "      <th>564</th>\n",
       "      <td>Panvila</td>\n",
       "      <td>2115070</td>\n",
       "      <td>2</td>\n",
       "      <td>21</td>\n",
       "      <td>2115</td>\n",
       "      <td>1626.0</td>\n",
       "      <td>6326.0</td>\n",
       "      <td>3.890529</td>\n",
       "      <td>2352362.54</td>\n",
       "      <td>POLYGON ((80.73290623821237 7.36361987297315, ...</td>\n",
       "    </tr>\n",
       "    <tr>\n",
       "      <th>7917</th>\n",
       "      <td>Ganepalla</td>\n",
       "      <td>9227135</td>\n",
       "      <td>9</td>\n",
       "      <td>92</td>\n",
       "      <td>9227</td>\n",
       "      <td>4929.0</td>\n",
       "      <td>6929.0</td>\n",
       "      <td>1.405762</td>\n",
       "      <td>7147144.18</td>\n",
       "      <td>POLYGON ((80.36778185838672 7.016079031081547,...</td>\n",
       "    </tr>\n",
       "    <tr>\n",
       "      <th>2263</th>\n",
       "      <td>Akkaraipattu 11</td>\n",
       "      <td>5236065</td>\n",
       "      <td>5</td>\n",
       "      <td>52</td>\n",
       "      <td>5236</td>\n",
       "      <td>89.0</td>\n",
       "      <td>5889.0</td>\n",
       "      <td>66.168539</td>\n",
       "      <td>132541.12</td>\n",
       "      <td>POLYGON ((81.86234055205938 7.22704322335137, ...</td>\n",
       "    </tr>\n",
       "    <tr>\n",
       "      <th>8</th>\n",
       "      <td>Delgasthenna</td>\n",
       "      <td>2109125</td>\n",
       "      <td>2</td>\n",
       "      <td>21</td>\n",
       "      <td>2109</td>\n",
       "      <td>274.0</td>\n",
       "      <td>2874.0</td>\n",
       "      <td>10.489051</td>\n",
       "      <td>397006.47</td>\n",
       "      <td>POLYGON ((80.62702879794956 7.380156075748994,...</td>\n",
       "    </tr>\n",
       "  </tbody>\n",
       "</table>\n",
       "</div>"
      ],
      "text/plain": [
       "                  gnd_n    gnd_c  prov_c  dis_c  dsd_c  ghs_count  ghs_sum  \\\n",
       "gid                                                                          \n",
       "43    Karagaskada South  2148065       2     21   2148      235.0    635.0   \n",
       "564             Panvila  2115070       2     21   2115     1626.0   6326.0   \n",
       "7917          Ganepalla  9227135       9     92   9227     4929.0   6929.0   \n",
       "2263    Akkaraipattu 11  5236065       5     52   5236       89.0   5889.0   \n",
       "8          Delgasthenna  2109125       2     21   2109      274.0   2874.0   \n",
       "\n",
       "       ghs_mean  Shape_Area                                           geometry  \n",
       "gid                                                                             \n",
       "43     2.702128   342335.19  POLYGON ((80.70650072195758 7.176928435503455,...  \n",
       "564    3.890529  2352362.54  POLYGON ((80.73290623821237 7.36361987297315, ...  \n",
       "7917   1.405762  7147144.18  POLYGON ((80.36778185838672 7.016079031081547,...  \n",
       "2263  66.168539   132541.12  POLYGON ((81.86234055205938 7.22704322335137, ...  \n",
       "8     10.489051   397006.47  POLYGON ((80.62702879794956 7.380156075748994,...  "
      ]
     },
     "execution_count": 6,
     "metadata": {},
     "output_type": "execute_result"
    }
   ],
   "source": [
    "ghs = gpd.read_file(\"../../../analysis/sri_lanka/shapefiles/sri_ghs.shp\")\n",
    "ghs['gid'] = ghs['gid'].astype(int)\n",
    "ghs = ghs.set_index('gid')\n",
    "ghs.head()"
   ]
  },
  {
   "cell_type": "code",
   "execution_count": 7,
   "metadata": {},
   "outputs": [],
   "source": [
    "ghs['PCNT_blt'] = ((ghs['ghs_sum']/101)*1444)/(ghs['Shape_Area'])*100\n"
   ]
  },
  {
   "cell_type": "code",
   "execution_count": 8,
   "metadata": {},
   "outputs": [
    {
     "data": {
      "text/plain": [
       "DescribeResult(nobs=14021, minmax=(0.9443431350654412, 109.87057489757564), mean=12.226958293193814, variance=557.1467539155609, skewness=2.4428853941002484, kurtosis=4.888392516975759)"
      ]
     },
     "execution_count": 8,
     "metadata": {},
     "output_type": "execute_result"
    }
   ],
   "source": [
    "stats.describe(ghs['PCNT_blt'])"
   ]
  },
  {
   "cell_type": "code",
   "execution_count": 9,
   "metadata": {},
   "outputs": [],
   "source": [
    "colombo= ghs[(ghs['dis_c']==11) | (ghs['dis_c']==12)| (ghs['dis_c']==13)]\n",
    "colombo.plot(column='PCNT_blt', cmap='OrRd',figsize=(10,8));"
   ]
  },
  {
   "cell_type": "code",
   "execution_count": 10,
   "metadata": {},
   "outputs": [
    {
     "data": {
      "image/png": "[encoded data removed]",
      "text/plain": [
       "<Figure size 720x576 with 1 Axes>"
      ]
     },
     "metadata": {},
     "output_type": "display_data"
    }
   ],
   "source": [
    "colombo.plot(column='PCNT_blt', cmap='OrRd',figsize=(10,8));"
   ]
  },
  {
   "cell_type": "markdown",
   "metadata": {},
   "source": [
    "### Merge population data with urbanfootprint and featuures"
   ]
  },
  {
   "cell_type": "code",
   "execution_count": 11,
   "metadata": {},
   "outputs": [],
   "source": [
    "ghs_cols =ghs.drop(['geometry'],axis=1)\n",
    "spfeas_ghs = spfeas.merge(ghs_cols, left_on='gid', right_on=\"gid\", how='outer')\n"
   ]
  },
  {
   "cell_type": "markdown",
   "metadata": {},
   "source": [
    "### Analysis"
   ]
  },
  {
   "cell_type": "code",
   "execution_count": 12,
   "metadata": {},
   "outputs": [
    {
     "data": {
      "text/plain": [
       "(14021, 436)"
      ]
     },
     "execution_count": 12,
     "metadata": {},
     "output_type": "execute_result"
    }
   ],
   "source": [
    "spfeas_ghs.shape"
   ]
  },
  {
   "cell_type": "code",
   "execution_count": 13,
   "metadata": {
    "scrolled": false
   },
   "outputs": [
    {
     "data": {
      "text/plain": [
       "'PCNT_blt'"
      ]
     },
     "execution_count": 13,
     "metadata": {},
     "output_type": "execute_result"
    }
   ],
   "source": [
    "#Get the list of dependent variables from the DataFrame to store in list y_vars\n",
    "y_var = list(spfeas_ghs.axes[1])[435]\n",
    "#Initialize a dictionary to store independent variables for each dependent variable \n",
    "y_dict = {}\n",
    "#Get a list of all independent variables from the DataFrame in list all_x\n",
    "all_x = list(spfeas_ghs.axes[1])[3:426]\n",
    "y_var"
   ]
  },
  {
   "cell_type": "markdown",
   "metadata": {},
   "source": [
    "Get the list of dependent variables from the DataFrame to store in list y_vars"
   ]
  },
  {
   "cell_type": "code",
   "execution_count": 14,
   "metadata": {},
   "outputs": [],
   "source": [
    "#Check\n",
    "# all_x"
   ]
  },
  {
   "cell_type": "markdown",
   "metadata": {},
   "source": [
    "### Compute Coorelation of features with population density"
   ]
  },
  {
   "cell_type": "markdown",
   "metadata": {},
   "source": [
    "Store all features with the least correlation (stat. significance (p < 0.05)) "
   ]
  },
  {
   "cell_type": "markdown",
   "metadata": {},
   "source": [
    "The Pearson correlation coefficient **measures the linear relationship\n",
    "between two datasets.** Strictly speaking, Pearson's correlation requires\n",
    "that each dataset be **normally distributed, and not necessarily zero-mean.**\n",
    "\n",
    "Like other correlation coefficients, this one varies between -1 and +1\n",
    "with 0 implying no correlation. Correlations of -1 or +1 imply an exact\n",
    "linear relationship. Positive correlations imply that as x increases, so\n",
    "does y. Negative correlations imply that as x increases, y decreases.\n",
    "\n",
    "The p-value roughly indicates **the probability of an uncorrelated system**\n",
    "producing datasets that have a Pearson correlation at least as extreme\n",
    "as the one computed from these datasets. \n",
    "\n",
    "***The p-values are not entirely\n",
    "reliable but are probably reasonable for datasets larger than 500 or so.***"
   ]
  },
  {
   "cell_type": "code",
   "execution_count": 15,
   "metadata": {},
   "outputs": [
    {
     "data": {
      "text/plain": [
       "False"
      ]
     },
     "execution_count": 15,
     "metadata": {},
     "output_type": "execute_result"
    }
   ],
   "source": [
    "spfeas_ghs[y_var] = spfeas_ghs[y_var].fillna(0)\n",
    "spfeas_ghs[y_var].isnull().values.any()"
   ]
  },
  {
   "cell_type": "code",
   "execution_count": 16,
   "metadata": {},
   "outputs": [],
   "source": [
    "y_dict = {}\n",
    "x = []\n",
    "\n",
    "for x_var in all_x:\n",
    "    \n",
    "    #Calculate the Pearson statistics, \n",
    "    # returns the Pearson value and p value\n",
    "    \n",
    "    p = stats.pearsonr(spfeas_ghs[x_var],spfeas_ghs[y_var])\n",
    "    \n",
    "    # print back for mike\n",
    "    #print (y_var + \" , \" + x_var + \" , \" +  str(p[0]) + \" , \" + str(p[1]))\n",
    "    \n",
    "    #If p < 0.05 append to list x\n",
    "    if p[1] < 0.05:\n",
    "        x.append([x_var,(p[0])])\n",
    "\n",
    "#List x is made into a DataFrame \n",
    "# which is sorted by the absolute values of the Pearson values\n",
    "x_df = pd.DataFrame(x,columns=[\"x_var\",\"abs_r2\"]).sort_values(\"abs_r2\",ascending=True)\n",
    "\n",
    "\n",
    "#The dependent variable dictionary is given an entry \n",
    "# where the key is the name of the dependent variable\n",
    "# and the value is a list of top 200 most significant values\n",
    "\n",
    "y_dict[y_var] = list(x_df[\"x_var\"][0:200])\n",
    "#y_dict[y_var]\n",
    "#Print out each dependent variable and \n",
    "#the number of x values that remain to check completion"
   ]
  },
  {
   "cell_type": "code",
   "execution_count": 17,
   "metadata": {},
   "outputs": [
    {
     "data": {
      "text/html": [
       "<div>\n",
       "<style scoped>\n",
       "    .dataframe tbody tr th:only-of-type {\n",
       "        vertical-align: middle;\n",
       "    }\n",
       "\n",
       "    .dataframe tbody tr th {\n",
       "        vertical-align: top;\n",
       "    }\n",
       "\n",
       "    .dataframe thead th {\n",
       "        text-align: right;\n",
       "    }\n",
       "</style>\n",
       "<table border=\"1\" class=\"dataframe\">\n",
       "  <thead>\n",
       "    <tr style=\"text-align: right;\">\n",
       "      <th></th>\n",
       "      <th>x_var</th>\n",
       "      <th>abs_r2</th>\n",
       "    </tr>\n",
       "  </thead>\n",
       "  <tbody>\n",
       "    <tr>\n",
       "      <th>172</th>\n",
       "      <td>hog_sc3_variance_std</td>\n",
       "      <td>-0.697420</td>\n",
       "    </tr>\n",
       "    <tr>\n",
       "      <th>166</th>\n",
       "      <td>hog_sc3_mean_std</td>\n",
       "      <td>-0.666207</td>\n",
       "    </tr>\n",
       "    <tr>\n",
       "      <th>416</th>\n",
       "      <td>sfs_sc71_w_mean_mean</td>\n",
       "      <td>-0.656159</td>\n",
       "    </tr>\n",
       "    <tr>\n",
       "      <th>183</th>\n",
       "      <td>hog_sc5_variance_mean</td>\n",
       "      <td>-0.654545</td>\n",
       "    </tr>\n",
       "    <tr>\n",
       "      <th>381</th>\n",
       "      <td>sfs_sc31_std_std</td>\n",
       "      <td>-0.638284</td>\n",
       "    </tr>\n",
       "    <tr>\n",
       "      <th>377</th>\n",
       "      <td>sfs_sc31_roa_mean</td>\n",
       "      <td>-0.636783</td>\n",
       "    </tr>\n",
       "    <tr>\n",
       "      <th>195</th>\n",
       "      <td>hog_sc7_variance_mean</td>\n",
       "      <td>-0.618683</td>\n",
       "    </tr>\n",
       "    <tr>\n",
       "      <th>308</th>\n",
       "      <td>ndvi_sc7_mean_mean</td>\n",
       "      <td>-0.604324</td>\n",
       "    </tr>\n",
       "    <tr>\n",
       "      <th>302</th>\n",
       "      <td>ndvi_sc5_mean_mean</td>\n",
       "      <td>-0.604140</td>\n",
       "    </tr>\n",
       "    <tr>\n",
       "      <th>296</th>\n",
       "      <td>ndvi_sc3_mean_mean</td>\n",
       "      <td>-0.603984</td>\n",
       "    </tr>\n",
       "    <tr>\n",
       "      <th>184</th>\n",
       "      <td>hog_sc5_variance_std</td>\n",
       "      <td>-0.590974</td>\n",
       "    </tr>\n",
       "    <tr>\n",
       "      <th>384</th>\n",
       "      <td>sfs_sc31_w_mean_std</td>\n",
       "      <td>-0.588506</td>\n",
       "    </tr>\n",
       "    <tr>\n",
       "      <th>402</th>\n",
       "      <td>sfs_sc51_w_mean_std</td>\n",
       "      <td>-0.587875</td>\n",
       "    </tr>\n",
       "    <tr>\n",
       "      <th>390</th>\n",
       "      <td>sfs_sc51_mean_std</td>\n",
       "      <td>-0.584260</td>\n",
       "    </tr>\n",
       "    <tr>\n",
       "      <th>401</th>\n",
       "      <td>sfs_sc51_w_mean_mean</td>\n",
       "      <td>-0.582508</td>\n",
       "    </tr>\n",
       "  </tbody>\n",
       "</table>\n",
       "</div>"
      ],
      "text/plain": [
       "                     x_var    abs_r2\n",
       "172   hog_sc3_variance_std -0.697420\n",
       "166       hog_sc3_mean_std -0.666207\n",
       "416   sfs_sc71_w_mean_mean -0.656159\n",
       "183  hog_sc5_variance_mean -0.654545\n",
       "381       sfs_sc31_std_std -0.638284\n",
       "377      sfs_sc31_roa_mean -0.636783\n",
       "195  hog_sc7_variance_mean -0.618683\n",
       "308     ndvi_sc7_mean_mean -0.604324\n",
       "302     ndvi_sc5_mean_mean -0.604140\n",
       "296     ndvi_sc3_mean_mean -0.603984\n",
       "184   hog_sc5_variance_std -0.590974\n",
       "384    sfs_sc31_w_mean_std -0.588506\n",
       "402    sfs_sc51_w_mean_std -0.587875\n",
       "390      sfs_sc51_mean_std -0.584260\n",
       "401   sfs_sc51_w_mean_mean -0.582508"
      ]
     },
     "execution_count": 17,
     "metadata": {},
     "output_type": "execute_result"
    }
   ],
   "source": [
    "x_df.head(15)"
   ]
  },
  {
   "cell_type": "code",
   "execution_count": 18,
   "metadata": {},
   "outputs": [
    {
     "name": "stdout",
     "output_type": "stream",
     "text": [
      "PCNT_blt 200\n"
     ]
    }
   ],
   "source": [
    "#check \n",
    "\n",
    "for key in y_dict.keys():\n",
    "    print(key,len(y_dict[key]))\n"
   ]
  },
  {
   "cell_type": "markdown",
   "metadata": {},
   "source": [
    "### Correlation Significance"
   ]
  },
  {
   "cell_type": "markdown",
   "metadata": {},
   "source": [
    "For each dependent variable y in the list of all dependent values, calibrate the model.\n",
    "Add new key to the output dictionary where y is the dependent variable curently being processed and the values are empty for now"
   ]
  },
  {
   "cell_type": "code",
   "execution_count": 19,
   "metadata": {},
   "outputs": [],
   "source": [
    "#Initialize the output dictionary, Y_D, \n",
    "# with each key being a dependent variable and the values being the results of the analyses\n",
    "\n",
    "Y_D = {}\n",
    "\n",
    "Y_D[y_var]={}\n",
    "\n",
    "#Dictionary Models is used to store each result object for later use if needed\n",
    "\n",
    "Models ={}\n",
    "\n",
    "#Get independent variables from the variable dictionary and store in list x_vars\n",
    "x_vars = y_dict[y_var]\n",
    "\n",
    "\n",
    "vars_df = pd.DataFrame()\n",
    "\n",
    "vars_df[y_var] = spfeas_ghs[y_var]\n",
    "\n",
    "\n",
    "for x in x_vars:\n",
    "    vars_df[x] = spfeas_ghs[x]"
   ]
  },
  {
   "cell_type": "code",
   "execution_count": 20,
   "metadata": {},
   "outputs": [
    {
     "data": {
      "text/html": [
       "<div>\n",
       "<style scoped>\n",
       "    .dataframe tbody tr th:only-of-type {\n",
       "        vertical-align: middle;\n",
       "    }\n",
       "\n",
       "    .dataframe tbody tr th {\n",
       "        vertical-align: top;\n",
       "    }\n",
       "\n",
       "    .dataframe thead th {\n",
       "        text-align: right;\n",
       "    }\n",
       "</style>\n",
       "<table border=\"1\" class=\"dataframe\">\n",
       "  <thead>\n",
       "    <tr style=\"text-align: right;\">\n",
       "      <th></th>\n",
       "      <th>PCNT_blt</th>\n",
       "      <th>hog_sc3_variance_std</th>\n",
       "      <th>hog_sc3_mean_std</th>\n",
       "      <th>sfs_sc71_w_mean_mean</th>\n",
       "      <th>hog_sc5_variance_mean</th>\n",
       "      <th>sfs_sc31_std_std</th>\n",
       "      <th>sfs_sc31_roa_mean</th>\n",
       "      <th>hog_sc7_variance_mean</th>\n",
       "      <th>ndvi_sc7_mean_mean</th>\n",
       "      <th>ndvi_sc5_mean_mean</th>\n",
       "      <th>...</th>\n",
       "      <th>pantex_sc5_min_sum</th>\n",
       "      <th>lbpm_sc3_mean_mean</th>\n",
       "      <th>lbpm_sc7_skew_std</th>\n",
       "      <th>pantex_sc3_min_sum</th>\n",
       "      <th>sfs_sc51_roa_std</th>\n",
       "      <th>sfs_sc31_min_ll_std</th>\n",
       "      <th>sfs_sc71_min_ll_sum</th>\n",
       "      <th>sfs_sc31_min_ll_mean</th>\n",
       "      <th>orb_sc51_kurtosis_sum</th>\n",
       "      <th>sfs_sc51_min_ll_std</th>\n",
       "    </tr>\n",
       "    <tr>\n",
       "      <th>gid</th>\n",
       "      <th></th>\n",
       "      <th></th>\n",
       "      <th></th>\n",
       "      <th></th>\n",
       "      <th></th>\n",
       "      <th></th>\n",
       "      <th></th>\n",
       "      <th></th>\n",
       "      <th></th>\n",
       "      <th></th>\n",
       "      <th></th>\n",
       "      <th></th>\n",
       "      <th></th>\n",
       "      <th></th>\n",
       "      <th></th>\n",
       "      <th></th>\n",
       "      <th></th>\n",
       "      <th></th>\n",
       "      <th></th>\n",
       "      <th></th>\n",
       "      <th></th>\n",
       "    </tr>\n",
       "  </thead>\n",
       "  <tbody>\n",
       "    <tr>\n",
       "      <th>43</th>\n",
       "      <td>2.651966</td>\n",
       "      <td>0.025753</td>\n",
       "      <td>0.015502</td>\n",
       "      <td>1.228705</td>\n",
       "      <td>0.016466</td>\n",
       "      <td>1.750050</td>\n",
       "      <td>59.088519</td>\n",
       "      <td>0.009027</td>\n",
       "      <td>0.273208</td>\n",
       "      <td>0.369888</td>\n",
       "      <td>...</td>\n",
       "      <td>461.608368</td>\n",
       "      <td>0.444151</td>\n",
       "      <td>0.102134</td>\n",
       "      <td>72.416672</td>\n",
       "      <td>1.249185</td>\n",
       "      <td>0.038191</td>\n",
       "      <td>3933</td>\n",
       "      <td>1.001461</td>\n",
       "      <td>8.094697e+08</td>\n",
       "      <td>0.086822</td>\n",
       "    </tr>\n",
       "    <tr>\n",
       "      <th>564</th>\n",
       "      <td>3.844773</td>\n",
       "      <td>0.034059</td>\n",
       "      <td>0.036432</td>\n",
       "      <td>2.838843</td>\n",
       "      <td>0.025137</td>\n",
       "      <td>2.684665</td>\n",
       "      <td>59.346548</td>\n",
       "      <td>0.017032</td>\n",
       "      <td>0.290683</td>\n",
       "      <td>0.393284</td>\n",
       "      <td>...</td>\n",
       "      <td>2187.125000</td>\n",
       "      <td>0.445109</td>\n",
       "      <td>0.113695</td>\n",
       "      <td>293.166656</td>\n",
       "      <td>1.400920</td>\n",
       "      <td>0.063072</td>\n",
       "      <td>40076188</td>\n",
       "      <td>1.003994</td>\n",
       "      <td>2.263980e+09</td>\n",
       "      <td>0.084929</td>\n",
       "    </tr>\n",
       "    <tr>\n",
       "      <th>7917</th>\n",
       "      <td>1.386066</td>\n",
       "      <td>0.039382</td>\n",
       "      <td>0.050408</td>\n",
       "      <td>3.388618</td>\n",
       "      <td>0.030212</td>\n",
       "      <td>3.383542</td>\n",
       "      <td>59.889562</td>\n",
       "      <td>0.023068</td>\n",
       "      <td>0.311947</td>\n",
       "      <td>0.422038</td>\n",
       "      <td>...</td>\n",
       "      <td>2096.283203</td>\n",
       "      <td>0.445847</td>\n",
       "      <td>0.096620</td>\n",
       "      <td>261.833344</td>\n",
       "      <td>1.047181</td>\n",
       "      <td>0.047993</td>\n",
       "      <td>7900571136</td>\n",
       "      <td>1.002309</td>\n",
       "      <td>0.000000e+00</td>\n",
       "      <td>0.062023</td>\n",
       "    </tr>\n",
       "    <tr>\n",
       "      <th>2263</th>\n",
       "      <td>63.523839</td>\n",
       "      <td>0.022686</td>\n",
       "      <td>0.011365</td>\n",
       "      <td>0.514668</td>\n",
       "      <td>0.015753</td>\n",
       "      <td>1.604686</td>\n",
       "      <td>57.499622</td>\n",
       "      <td>0.008823</td>\n",
       "      <td>0.160211</td>\n",
       "      <td>0.216929</td>\n",
       "      <td>...</td>\n",
       "      <td>179.112488</td>\n",
       "      <td>0.446682</td>\n",
       "      <td>0.094314</td>\n",
       "      <td>31.250000</td>\n",
       "      <td>0.599909</td>\n",
       "      <td>0.054903</td>\n",
       "      <td>1331</td>\n",
       "      <td>1.003023</td>\n",
       "      <td>0.000000e+00</td>\n",
       "      <td>0.115846</td>\n",
       "    </tr>\n",
       "    <tr>\n",
       "      <th>8</th>\n",
       "      <td>10.349872</td>\n",
       "      <td>0.028749</td>\n",
       "      <td>0.027216</td>\n",
       "      <td>1.180995</td>\n",
       "      <td>0.018729</td>\n",
       "      <td>1.744855</td>\n",
       "      <td>58.869489</td>\n",
       "      <td>0.010275</td>\n",
       "      <td>0.269193</td>\n",
       "      <td>0.364343</td>\n",
       "      <td>...</td>\n",
       "      <td>303.537506</td>\n",
       "      <td>0.444464</td>\n",
       "      <td>0.128454</td>\n",
       "      <td>32.166672</td>\n",
       "      <td>1.298070</td>\n",
       "      <td>0.054903</td>\n",
       "      <td>4809</td>\n",
       "      <td>1.003023</td>\n",
       "      <td>1.929741e+08</td>\n",
       "      <td>0.093491</td>\n",
       "    </tr>\n",
       "  </tbody>\n",
       "</table>\n",
       "<p>5 rows × 201 columns</p>\n",
       "</div>"
      ],
      "text/plain": [
       "       PCNT_blt  hog_sc3_variance_std  hog_sc3_mean_std  sfs_sc71_w_mean_mean  \\\n",
       "gid                                                                             \n",
       "43     2.651966              0.025753          0.015502              1.228705   \n",
       "564    3.844773              0.034059          0.036432              2.838843   \n",
       "7917   1.386066              0.039382          0.050408              3.388618   \n",
       "2263  63.523839              0.022686          0.011365              0.514668   \n",
       "8     10.349872              0.028749          0.027216              1.180995   \n",
       "\n",
       "      hog_sc5_variance_mean  sfs_sc31_std_std  sfs_sc31_roa_mean  \\\n",
       "gid                                                                \n",
       "43                 0.016466          1.750050          59.088519   \n",
       "564                0.025137          2.684665          59.346548   \n",
       "7917               0.030212          3.383542          59.889562   \n",
       "2263               0.015753          1.604686          57.499622   \n",
       "8                  0.018729          1.744855          58.869489   \n",
       "\n",
       "      hog_sc7_variance_mean  ndvi_sc7_mean_mean  ndvi_sc5_mean_mean  ...  \\\n",
       "gid                                                                  ...   \n",
       "43                 0.009027            0.273208            0.369888  ...   \n",
       "564                0.017032            0.290683            0.393284  ...   \n",
       "7917               0.023068            0.311947            0.422038  ...   \n",
       "2263               0.008823            0.160211            0.216929  ...   \n",
       "8                  0.010275            0.269193            0.364343  ...   \n",
       "\n",
       "      pantex_sc5_min_sum  lbpm_sc3_mean_mean  lbpm_sc7_skew_std  \\\n",
       "gid                                                               \n",
       "43            461.608368            0.444151           0.102134   \n",
       "564          2187.125000            0.445109           0.113695   \n",
       "7917         2096.283203            0.445847           0.096620   \n",
       "2263          179.112488            0.446682           0.094314   \n",
       "8             303.537506            0.444464           0.128454   \n",
       "\n",
       "      pantex_sc3_min_sum  sfs_sc51_roa_std  sfs_sc31_min_ll_std  \\\n",
       "gid                                                               \n",
       "43             72.416672          1.249185             0.038191   \n",
       "564           293.166656          1.400920             0.063072   \n",
       "7917          261.833344          1.047181             0.047993   \n",
       "2263           31.250000          0.599909             0.054903   \n",
       "8              32.166672          1.298070             0.054903   \n",
       "\n",
       "      sfs_sc71_min_ll_sum  sfs_sc31_min_ll_mean  orb_sc51_kurtosis_sum  \\\n",
       "gid                                                                      \n",
       "43                   3933              1.001461           8.094697e+08   \n",
       "564              40076188              1.003994           2.263980e+09   \n",
       "7917           7900571136              1.002309           0.000000e+00   \n",
       "2263                 1331              1.003023           0.000000e+00   \n",
       "8                    4809              1.003023           1.929741e+08   \n",
       "\n",
       "      sfs_sc51_min_ll_std  \n",
       "gid                        \n",
       "43               0.086822  \n",
       "564              0.084929  \n",
       "7917             0.062023  \n",
       "2263             0.115846  \n",
       "8                0.093491  \n",
       "\n",
       "[5 rows x 201 columns]"
      ]
     },
     "execution_count": 20,
     "metadata": {},
     "output_type": "execute_result"
    }
   ],
   "source": [
    "vars_df.head()"
   ]
  },
  {
   "cell_type": "markdown",
   "metadata": {},
   "source": [
    "### Scale/Normalize Data"
   ]
  },
  {
   "cell_type": "code",
   "execution_count": 21,
   "metadata": {},
   "outputs": [
    {
     "data": {
      "text/html": [
       "<div>\n",
       "<style scoped>\n",
       "    .dataframe tbody tr th:only-of-type {\n",
       "        vertical-align: middle;\n",
       "    }\n",
       "\n",
       "    .dataframe tbody tr th {\n",
       "        vertical-align: top;\n",
       "    }\n",
       "\n",
       "    .dataframe thead th {\n",
       "        text-align: right;\n",
       "    }\n",
       "</style>\n",
       "<table border=\"1\" class=\"dataframe\">\n",
       "  <thead>\n",
       "    <tr style=\"text-align: right;\">\n",
       "      <th></th>\n",
       "      <th>PCNT_blt</th>\n",
       "      <th>hog_sc3_variance_std</th>\n",
       "      <th>hog_sc3_mean_std</th>\n",
       "      <th>sfs_sc71_w_mean_mean</th>\n",
       "      <th>hog_sc5_variance_mean</th>\n",
       "      <th>sfs_sc31_std_std</th>\n",
       "      <th>sfs_sc31_roa_mean</th>\n",
       "      <th>hog_sc7_variance_mean</th>\n",
       "      <th>ndvi_sc7_mean_mean</th>\n",
       "      <th>ndvi_sc5_mean_mean</th>\n",
       "      <th>...</th>\n",
       "      <th>pantex_sc5_min_sum</th>\n",
       "      <th>lbpm_sc3_mean_mean</th>\n",
       "      <th>lbpm_sc7_skew_std</th>\n",
       "      <th>pantex_sc3_min_sum</th>\n",
       "      <th>sfs_sc51_roa_std</th>\n",
       "      <th>sfs_sc31_min_ll_std</th>\n",
       "      <th>sfs_sc71_min_ll_sum</th>\n",
       "      <th>sfs_sc31_min_ll_mean</th>\n",
       "      <th>orb_sc51_kurtosis_sum</th>\n",
       "      <th>sfs_sc51_min_ll_std</th>\n",
       "    </tr>\n",
       "  </thead>\n",
       "  <tbody>\n",
       "    <tr>\n",
       "      <th>0</th>\n",
       "      <td>-0.405666</td>\n",
       "      <td>-1.316639</td>\n",
       "      <td>-1.438002</td>\n",
       "      <td>-1.459916</td>\n",
       "      <td>-1.481615</td>\n",
       "      <td>-1.693512</td>\n",
       "      <td>-0.384825</td>\n",
       "      <td>-1.491887</td>\n",
       "      <td>0.380898</td>\n",
       "      <td>0.384714</td>\n",
       "      <td>...</td>\n",
       "      <td>-0.232521</td>\n",
       "      <td>0.127163</td>\n",
       "      <td>0.030145</td>\n",
       "      <td>-0.234151</td>\n",
       "      <td>-0.151028</td>\n",
       "      <td>-0.146697</td>\n",
       "      <td>-0.108825</td>\n",
       "      <td>-0.104701</td>\n",
       "      <td>-0.039848</td>\n",
       "      <td>-0.081676</td>\n",
       "    </tr>\n",
       "    <tr>\n",
       "      <th>1</th>\n",
       "      <td>-0.355130</td>\n",
       "      <td>0.379692</td>\n",
       "      <td>0.426730</td>\n",
       "      <td>0.154198</td>\n",
       "      <td>0.342887</td>\n",
       "      <td>0.058786</td>\n",
       "      <td>-0.008228</td>\n",
       "      <td>0.370608</td>\n",
       "      <td>0.707864</td>\n",
       "      <td>0.708528</td>\n",
       "      <td>...</td>\n",
       "      <td>0.034701</td>\n",
       "      <td>0.646527</td>\n",
       "      <td>0.924699</td>\n",
       "      <td>0.073596</td>\n",
       "      <td>-0.086279</td>\n",
       "      <td>-0.146661</td>\n",
       "      <td>-0.107449</td>\n",
       "      <td>-0.104168</td>\n",
       "      <td>1.007856</td>\n",
       "      <td>-0.081682</td>\n",
       "    </tr>\n",
       "    <tr>\n",
       "      <th>2</th>\n",
       "      <td>-0.459299</td>\n",
       "      <td>1.466919</td>\n",
       "      <td>1.671890</td>\n",
       "      <td>0.705331</td>\n",
       "      <td>1.410625</td>\n",
       "      <td>1.369101</td>\n",
       "      <td>0.784310</td>\n",
       "      <td>1.775044</td>\n",
       "      <td>1.105743</td>\n",
       "      <td>1.106495</td>\n",
       "      <td>...</td>\n",
       "      <td>0.020632</td>\n",
       "      <td>1.046278</td>\n",
       "      <td>-0.396486</td>\n",
       "      <td>0.029914</td>\n",
       "      <td>-0.237229</td>\n",
       "      <td>-0.146683</td>\n",
       "      <td>0.162342</td>\n",
       "      <td>-0.104523</td>\n",
       "      <td>-0.622920</td>\n",
       "      <td>-0.081744</td>\n",
       "    </tr>\n",
       "    <tr>\n",
       "      <th>3</th>\n",
       "      <td>2.173310</td>\n",
       "      <td>-1.943017</td>\n",
       "      <td>-1.806559</td>\n",
       "      <td>-2.175716</td>\n",
       "      <td>-1.631792</td>\n",
       "      <td>-1.966053</td>\n",
       "      <td>-2.703847</td>\n",
       "      <td>-1.539475</td>\n",
       "      <td>-1.733326</td>\n",
       "      <td>-1.732327</td>\n",
       "      <td>...</td>\n",
       "      <td>-0.276269</td>\n",
       "      <td>1.499080</td>\n",
       "      <td>-0.574925</td>\n",
       "      <td>-0.291541</td>\n",
       "      <td>-0.428093</td>\n",
       "      <td>-0.146673</td>\n",
       "      <td>-0.108825</td>\n",
       "      <td>-0.104372</td>\n",
       "      <td>-0.622920</td>\n",
       "      <td>-0.081597</td>\n",
       "    </tr>\n",
       "    <tr>\n",
       "      <th>4</th>\n",
       "      <td>-0.079527</td>\n",
       "      <td>-0.704706</td>\n",
       "      <td>-0.394391</td>\n",
       "      <td>-1.507744</td>\n",
       "      <td>-1.005454</td>\n",
       "      <td>-1.703252</td>\n",
       "      <td>-0.704504</td>\n",
       "      <td>-1.201625</td>\n",
       "      <td>0.305774</td>\n",
       "      <td>0.307966</td>\n",
       "      <td>...</td>\n",
       "      <td>-0.257000</td>\n",
       "      <td>0.297068</td>\n",
       "      <td>2.066690</td>\n",
       "      <td>-0.290263</td>\n",
       "      <td>-0.130168</td>\n",
       "      <td>-0.146673</td>\n",
       "      <td>-0.108825</td>\n",
       "      <td>-0.104372</td>\n",
       "      <td>-0.483918</td>\n",
       "      <td>-0.081658</td>\n",
       "    </tr>\n",
       "  </tbody>\n",
       "</table>\n",
       "<p>5 rows × 201 columns</p>\n",
       "</div>"
      ],
      "text/plain": [
       "   PCNT_blt  hog_sc3_variance_std  hog_sc3_mean_std  sfs_sc71_w_mean_mean  \\\n",
       "0 -0.405666             -1.316639         -1.438002             -1.459916   \n",
       "1 -0.355130              0.379692          0.426730              0.154198   \n",
       "2 -0.459299              1.466919          1.671890              0.705331   \n",
       "3  2.173310             -1.943017         -1.806559             -2.175716   \n",
       "4 -0.079527             -0.704706         -0.394391             -1.507744   \n",
       "\n",
       "   hog_sc5_variance_mean  sfs_sc31_std_std  sfs_sc31_roa_mean  \\\n",
       "0              -1.481615         -1.693512          -0.384825   \n",
       "1               0.342887          0.058786          -0.008228   \n",
       "2               1.410625          1.369101           0.784310   \n",
       "3              -1.631792         -1.966053          -2.703847   \n",
       "4              -1.005454         -1.703252          -0.704504   \n",
       "\n",
       "   hog_sc7_variance_mean  ndvi_sc7_mean_mean  ndvi_sc5_mean_mean  ...  \\\n",
       "0              -1.491887            0.380898            0.384714  ...   \n",
       "1               0.370608            0.707864            0.708528  ...   \n",
       "2               1.775044            1.105743            1.106495  ...   \n",
       "3              -1.539475           -1.733326           -1.732327  ...   \n",
       "4              -1.201625            0.305774            0.307966  ...   \n",
       "\n",
       "   pantex_sc5_min_sum  lbpm_sc3_mean_mean  lbpm_sc7_skew_std  \\\n",
       "0           -0.232521            0.127163           0.030145   \n",
       "1            0.034701            0.646527           0.924699   \n",
       "2            0.020632            1.046278          -0.396486   \n",
       "3           -0.276269            1.499080          -0.574925   \n",
       "4           -0.257000            0.297068           2.066690   \n",
       "\n",
       "   pantex_sc3_min_sum  sfs_sc51_roa_std  sfs_sc31_min_ll_std  \\\n",
       "0           -0.234151         -0.151028            -0.146697   \n",
       "1            0.073596         -0.086279            -0.146661   \n",
       "2            0.029914         -0.237229            -0.146683   \n",
       "3           -0.291541         -0.428093            -0.146673   \n",
       "4           -0.290263         -0.130168            -0.146673   \n",
       "\n",
       "   sfs_sc71_min_ll_sum  sfs_sc31_min_ll_mean  orb_sc51_kurtosis_sum  \\\n",
       "0            -0.108825             -0.104701              -0.039848   \n",
       "1            -0.107449             -0.104168               1.007856   \n",
       "2             0.162342             -0.104523              -0.622920   \n",
       "3            -0.108825             -0.104372              -0.622920   \n",
       "4            -0.108825             -0.104372              -0.483918   \n",
       "\n",
       "   sfs_sc51_min_ll_std  \n",
       "0            -0.081676  \n",
       "1            -0.081682  \n",
       "2            -0.081744  \n",
       "3            -0.081597  \n",
       "4            -0.081658  \n",
       "\n",
       "[5 rows x 201 columns]"
      ]
     },
     "execution_count": 21,
     "metadata": {},
     "output_type": "execute_result"
    }
   ],
   "source": [
    "minmax_scaler = preprocessing.MinMaxScaler()\n",
    "standard_scaler = preprocessing.StandardScaler()\n",
    "\n",
    "names = vars_df.columns\n",
    "scaled_df = standard_scaler.fit_transform(vars_df)\n",
    "scaled_df = pd.DataFrame(scaled_df, columns=names)\n",
    "scaled_df.head()"
   ]
  },
  {
   "cell_type": "markdown",
   "metadata": {},
   "source": [
    "### Set Elastic net's parameters"
   ]
  },
  {
   "cell_type": "code",
   "execution_count": 22,
   "metadata": {},
   "outputs": [],
   "source": [
    "enet_result = ElasticNetCV(max_iter=1e8,\n",
    "                    alphas = [0.0005, 0.001, 0.01, 0.03, 0.05, 0.1],\n",
    "                    l1_ratio =[.1, .5, .7, .9, .95, .99, 1],\n",
    "                    verbose= False,\n",
    "                    n_jobs = -1, \n",
    "                    cv=5, \n",
    "                    selection = 'random',\n",
    "                    fit_intercept=False)\n"
   ]
  },
  {
   "cell_type": "code",
   "execution_count": 23,
   "metadata": {
    "scrolled": false
   },
   "outputs": [
    {
     "data": {
      "text/plain": [
       "(14021, 201)"
      ]
     },
     "execution_count": 23,
     "metadata": {},
     "output_type": "execute_result"
    }
   ],
   "source": [
    "scaled_df.shape"
   ]
  },
  {
   "cell_type": "code",
   "execution_count": 24,
   "metadata": {
    "scrolled": false
   },
   "outputs": [],
   "source": [
    "# Fit the mode"
   ]
  },
  {
   "cell_type": "code",
   "execution_count": 25,
   "metadata": {},
   "outputs": [],
   "source": [
    "#Fit the model with the scaled data\n",
    "X_train, X_test, y_train, y_test = train_test_split(scaled_df[x_vars],scaled_df[y_var], test_size=0.34)\n",
    "enet_result.fit(X_train,y_train)\n",
    "#Append the model to the Models dictionary\n",
    "Models[y_var] = enet_result\n"
   ]
  },
  {
   "cell_type": "code",
   "execution_count": 26,
   "metadata": {
    "scrolled": true
   },
   "outputs": [
    {
     "data": {
      "text/plain": [
       "ElasticNetCV(alphas=[0.0005, 0.001, 0.01, 0.03, 0.05, 0.1], copy_X=True, cv=5,\n",
       "       eps=0.001, fit_intercept=False,\n",
       "       l1_ratio=[0.1, 0.5, 0.7, 0.9, 0.95, 0.99, 1], max_iter=100000000.0,\n",
       "       n_alphas=100, n_jobs=-1, normalize=False, positive=False,\n",
       "       precompute='auto', random_state=None, selection='random',\n",
       "       tol=0.0001, verbose=False)"
      ]
     },
     "execution_count": 26,
     "metadata": {},
     "output_type": "execute_result"
    }
   ],
   "source": [
    "enet_result"
   ]
  },
  {
   "cell_type": "code",
   "execution_count": 27,
   "metadata": {},
   "outputs": [
    {
     "name": "stdout",
     "output_type": "stream",
     "text": [
      "R2: 0.79 Alpha: 0.0005 l1_ratio: 1.0\n"
     ]
    }
   ],
   "source": [
    "opt_alpha, opt_l1_ratio = enet_result.alpha_, enet_result.l1_ratio_\n",
    "\n",
    "#Print update to ensure that the script is progressing properly\n",
    "print(\"R2: {:.2f} Alpha: {} l1_ratio: {}\"\n",
    "      .format(enet_result.score(scaled_df[x_vars],scaled_df[y_var]),\n",
    "              enet_result.alpha_, enet_result.l1_ratio_))"
   ]
  },
  {
   "cell_type": "markdown",
   "metadata": {},
   "source": [
    "Record the overall R squared score and optimal alpha \n",
    "and l1 ratio values and store them in the output dictionary\n"
   ]
  },
  {
   "cell_type": "code",
   "execution_count": 28,
   "metadata": {},
   "outputs": [],
   "source": [
    "Y_D[y_var]['Total R2'] = enet_result.score(scaled_df[x_vars],scaled_df[y_var])\n",
    "Y_D[y_var]['Alpha'] = opt_alpha\n",
    "Y_D[y_var]['l1_ratio'] = opt_l1_ratio"
   ]
  },
  {
   "cell_type": "markdown",
   "metadata": {},
   "source": [
    "### Ten Fold Cross validated regression"
   ]
  },
  {
   "cell_type": "code",
   "execution_count": 29,
   "metadata": {},
   "outputs": [],
   "source": [
    "#Create a list R2s to store out of sample R squared values\n",
    "\n",
    "R2s = []\n",
    "\n",
    "#Specify the number of trials to run\n",
    "\n",
    "trials = 10\n",
    "\n",
    "#Run the number of trials specified in trials, \n",
    "#for each trial 66% of the observations are randomly selected to train the model\n",
    "#Testing is done on the remaining 33% of observations and the R squared values are recorded\n",
    "\n",
    "for i in range(trials):    \n",
    "    X_train, X_test, y_train, y_test = train_test_split(scaled_df[x_vars],scaled_df[y_var], test_size=0.34)\n",
    "    enet_regr = ElasticNetCV(max_iter=1e8,\n",
    "                    alphas = [opt_alpha],\n",
    "                    l1_ratio =[opt_l1_ratio],\n",
    "                    n_jobs = -1, \n",
    "                    cv=5, \n",
    "                    selection = 'random',\n",
    "                    fit_intercept=False)\n",
    "    y_pred = enet_regr.fit(X_train,y_train).predict(X_test)\n",
    "    RMSE = np.sqrt(mse(y_test, y_pred))\n",
    "    MAE = (mae(y_test, y_pred))\n",
    "    r_squared = enet_regr.score(X_test,y_test)\n",
    "    adjusted_r_squared = 1 - (1-r_squared)*(len(y_train)-1)/(len(y_train)-X_train.shape[1]-1)\n",
    "    R2s.append(r_squared)\n",
    "\n",
    "#print(\"Mean R2: {:.2f} StDev: {:.4f}\".format(mean(R2s),pstdev(R2s)))\n",
    "#Record the out of sample R squared values\n",
    "Y_D[y_var][\"Adj_R2\"] = adjusted_r_squared\n",
    "Y_D[y_var][\"RMSE\"] = RMSE\n",
    "Y_D[y_var][\"MAE\"] = MAE\n",
    "Y_D[y_var]['Sampling']={'trials':trials,'R2':mean(R2s),'StDev':pstdev(R2s),'R2s':R2s}\n",
    "#coefs = [i for i in zip(list(scaled_df[x_vars].axes[1]),enet_result.coef_)]\n",
    "#remaining = [i for i in coefs if abs(i[1])>0.0]\n",
    "#Y_D[y_var][\"Coefficients\"]=remaining"
   ]
  },
  {
   "cell_type": "code",
   "execution_count": 30,
   "metadata": {
    "scrolled": false
   },
   "outputs": [
    {
     "data": {
      "text/plain": [
       "{'Total R2': 0.7910873810354917,\n",
       " 'Alpha': 0.0005,\n",
       " 'l1_ratio': 1.0,\n",
       " 'Adj_R2': 0.7997487017399995,\n",
       " 'RMSE': 0.44744884092121157,\n",
       " 'MAE': 0.2709774409034015,\n",
       " 'Sampling': {'trials': 10,\n",
       "  'R2': 0.7899964314488906,\n",
       "  'StDev': 0.012037674601385003,\n",
       "  'R2s': [0.8038583079996786,\n",
       "   0.7818379047315075,\n",
       "   0.7970209413846663,\n",
       "   0.7764231702648399,\n",
       "   0.7855058186817095,\n",
       "   0.8104807717636247,\n",
       "   0.7849799752026243,\n",
       "   0.7774337681430691,\n",
       "   0.7783461327384491,\n",
       "   0.8040775235787371]}}"
      ]
     },
     "execution_count": 30,
     "metadata": {},
     "output_type": "execute_result"
    }
   ],
   "source": [
    "\n",
    "Y_D[y_var]"
   ]
  },
  {
   "cell_type": "code",
   "execution_count": 31,
   "metadata": {},
   "outputs": [
    {
     "data": {
      "text/html": [
       "<div>\n",
       "<style scoped>\n",
       "    .dataframe tbody tr th:only-of-type {\n",
       "        vertical-align: middle;\n",
       "    }\n",
       "\n",
       "    .dataframe tbody tr th {\n",
       "        vertical-align: top;\n",
       "    }\n",
       "\n",
       "    .dataframe thead th {\n",
       "        text-align: right;\n",
       "    }\n",
       "</style>\n",
       "<table border=\"1\" class=\"dataframe\">\n",
       "  <thead>\n",
       "    <tr style=\"text-align: right;\">\n",
       "      <th></th>\n",
       "      <th>features</th>\n",
       "      <th>Coeff</th>\n",
       "    </tr>\n",
       "  </thead>\n",
       "  <tbody>\n",
       "    <tr>\n",
       "      <th>20</th>\n",
       "      <td>ndvi_sc5_variance_mean</td>\n",
       "      <td>5.147064</td>\n",
       "    </tr>\n",
       "    <tr>\n",
       "      <th>43</th>\n",
       "      <td>lbpm_sc3_max_mean</td>\n",
       "      <td>0.564658</td>\n",
       "    </tr>\n",
       "    <tr>\n",
       "      <th>103</th>\n",
       "      <td>ndvi_sc7_variance_sum</td>\n",
       "      <td>0.418561</td>\n",
       "    </tr>\n",
       "    <tr>\n",
       "      <th>62</th>\n",
       "      <td>sfs_sc51_max_ll_sum</td>\n",
       "      <td>0.400933</td>\n",
       "    </tr>\n",
       "    <tr>\n",
       "      <th>161</th>\n",
       "      <td>sfs_sc31_max_ll_sum</td>\n",
       "      <td>0.307613</td>\n",
       "    </tr>\n",
       "    <tr>\n",
       "      <th>3</th>\n",
       "      <td>hog_sc5_variance_mean</td>\n",
       "      <td>0.285097</td>\n",
       "    </tr>\n",
       "    <tr>\n",
       "      <th>56</th>\n",
       "      <td>lsr_sc5_line_length_mean</td>\n",
       "      <td>0.224126</td>\n",
       "    </tr>\n",
       "    <tr>\n",
       "      <th>79</th>\n",
       "      <td>lbpm_sc7_kurtosis_sum</td>\n",
       "      <td>0.189953</td>\n",
       "    </tr>\n",
       "    <tr>\n",
       "      <th>24</th>\n",
       "      <td>lbpm_sc3_variance_std</td>\n",
       "      <td>0.173431</td>\n",
       "    </tr>\n",
       "    <tr>\n",
       "      <th>55</th>\n",
       "      <td>lbpm_sc5_max_std</td>\n",
       "      <td>0.163965</td>\n",
       "    </tr>\n",
       "    <tr>\n",
       "      <th>50</th>\n",
       "      <td>fourier_sc31_variance_std</td>\n",
       "      <td>0.145974</td>\n",
       "    </tr>\n",
       "    <tr>\n",
       "      <th>198</th>\n",
       "      <td>orb_sc51_kurtosis_sum</td>\n",
       "      <td>0.110178</td>\n",
       "    </tr>\n",
       "    <tr>\n",
       "      <th>58</th>\n",
       "      <td>lbpm_sc5_skew_std</td>\n",
       "      <td>0.104582</td>\n",
       "    </tr>\n",
       "    <tr>\n",
       "      <th>14</th>\n",
       "      <td>sfs_sc51_w_mean_mean</td>\n",
       "      <td>0.100061</td>\n",
       "    </tr>\n",
       "    <tr>\n",
       "      <th>34</th>\n",
       "      <td>sfs_sc51_max_ll_std</td>\n",
       "      <td>0.095552</td>\n",
       "    </tr>\n",
       "  </tbody>\n",
       "</table>\n",
       "</div>"
      ],
      "text/plain": [
       "                      features     Coeff\n",
       "20      ndvi_sc5_variance_mean  5.147064\n",
       "43           lbpm_sc3_max_mean  0.564658\n",
       "103      ndvi_sc7_variance_sum  0.418561\n",
       "62         sfs_sc51_max_ll_sum  0.400933\n",
       "161        sfs_sc31_max_ll_sum  0.307613\n",
       "3        hog_sc5_variance_mean  0.285097\n",
       "56    lsr_sc5_line_length_mean  0.224126\n",
       "79       lbpm_sc7_kurtosis_sum  0.189953\n",
       "24       lbpm_sc3_variance_std  0.173431\n",
       "55            lbpm_sc5_max_std  0.163965\n",
       "50   fourier_sc31_variance_std  0.145974\n",
       "198      orb_sc51_kurtosis_sum  0.110178\n",
       "58           lbpm_sc5_skew_std  0.104582\n",
       "14        sfs_sc51_w_mean_mean  0.100061\n",
       "34         sfs_sc51_max_ll_std  0.095552"
      ]
     },
     "execution_count": 31,
     "metadata": {},
     "output_type": "execute_result"
    }
   ],
   "source": [
    "y_df = pd.DataFrame([i for i in zip(list(scaled_df[x_vars].axes[1]),enet_result.coef_)], \n",
    "                    columns=[\"features\",\"Coeff\"]).sort_values(\"Coeff\", ascending=False)\n",
    "\n",
    "y_df.head(15)"
   ]
  },
  {
   "cell_type": "markdown",
   "metadata": {},
   "source": [
    "## HOG"
   ]
  },
  {
   "cell_type": "code",
   "execution_count": 32,
   "metadata": {},
   "outputs": [
    {
     "name": "stdout",
     "output_type": "stream",
     "text": [
      "R2: 0.69 Alpha: 0.0005 l1_ratio: 1.0\n"
     ]
    }
   ],
   "source": [
    "filter_var = [col for col in scaled_df if col.startswith('hog')]\n",
    "X_train, X_test, y_train, y_test = train_test_split(scaled_df[filter_var],scaled_df[y_var], test_size=0.34)\n",
    "enet_result.fit(X_train,y_train)\n",
    "\n",
    "Models[y_var] = enet_result\n",
    "\n",
    "opt_alpha, opt_l1_ratio = enet_result.alpha_, enet_result.l1_ratio_\n",
    "\n",
    "\n",
    "print(\"R2: {:.2f} Alpha: {} l1_ratio: {}\"\n",
    "      .format(enet_result.score(scaled_df[filter_var],scaled_df[y_var]),\n",
    "              enet_result.alpha_, enet_result.l1_ratio_))\n"
   ]
  },
  {
   "cell_type": "markdown",
   "metadata": {},
   "source": [
    "## LBPM"
   ]
  },
  {
   "cell_type": "code",
   "execution_count": 33,
   "metadata": {},
   "outputs": [
    {
     "name": "stdout",
     "output_type": "stream",
     "text": [
      "R2: 0.64 Alpha: 0.0005 l1_ratio: 0.1\n"
     ]
    }
   ],
   "source": [
    "filter_var = [col for col in scaled_df if col.startswith('lbpm')]\n",
    "X_train, X_test, y_train, y_test = train_test_split(scaled_df[filter_var],scaled_df[y_var], test_size=0.34)\n",
    "enet_result.fit(X_train,y_train)\n",
    "\n",
    "Models[y_var] = enet_result\n",
    "\n",
    "opt_alpha, opt_l1_ratio = enet_result.alpha_, enet_result.l1_ratio_\n",
    "\n",
    "\n",
    "print(\"R2: {:.2f} Alpha: {} l1_ratio: {}\"\n",
    "      .format(enet_result.score(scaled_df[filter_var],scaled_df[y_var]),\n",
    "              enet_result.alpha_, enet_result.l1_ratio_))\n"
   ]
  },
  {
   "cell_type": "markdown",
   "metadata": {},
   "source": [
    "## Gabor"
   ]
  },
  {
   "cell_type": "code",
   "execution_count": 34,
   "metadata": {},
   "outputs": [
    {
     "name": "stdout",
     "output_type": "stream",
     "text": [
      "R2: 0.02 Alpha: 0.0005 l1_ratio: 0.1\n"
     ]
    }
   ],
   "source": [
    "filter_var = [col for col in scaled_df if col.startswith('gabor')]\n",
    "X_train, X_test, y_train, y_test = train_test_split(scaled_df[filter_var],scaled_df[y_var], test_size=0.34)\n",
    "enet_result.fit(X_train,y_train)\n",
    "\n",
    "Models[y_var] = enet_result\n",
    "\n",
    "opt_alpha, opt_l1_ratio = enet_result.alpha_, enet_result.l1_ratio_\n",
    "\n",
    "\n",
    "print(\"R2: {:.2f} Alpha: {} l1_ratio: {}\"\n",
    "      .format(enet_result.score(scaled_df[filter_var],scaled_df[y_var]),\n",
    "              enet_result.alpha_, enet_result.l1_ratio_))\n"
   ]
  },
  {
   "cell_type": "markdown",
   "metadata": {},
   "source": [
    "## Fourier"
   ]
  },
  {
   "cell_type": "code",
   "execution_count": 35,
   "metadata": {},
   "outputs": [
    {
     "name": "stdout",
     "output_type": "stream",
     "text": [
      "R2: 0.02 Alpha: 0.001 l1_ratio: 0.9\n"
     ]
    }
   ],
   "source": [
    "ilter_var = [col for col in scaled_df if col.startswith('fourier')]\n",
    "X_train, X_test, y_train, y_test = train_test_split(scaled_df[filter_var],scaled_df[y_var], test_size=0.34)\n",
    "enet_result.fit(X_train,y_train)\n",
    "\n",
    "Models[y_var] = enet_result\n",
    "\n",
    "opt_alpha, opt_l1_ratio = enet_result.alpha_, enet_result.l1_ratio_\n",
    "\n",
    "\n",
    "print(\"R2: {:.2f} Alpha: {} l1_ratio: {}\"\n",
    "      .format(enet_result.score(scaled_df[filter_var],scaled_df[y_var]),\n",
    "              enet_result.alpha_, enet_result.l1_ratio_))\n"
   ]
  },
  {
   "cell_type": "code",
   "execution_count": 36,
   "metadata": {},
   "outputs": [
    {
     "data": {
      "text/plain": [
       "<function vars>"
      ]
     },
     "execution_count": 36,
     "metadata": {},
     "output_type": "execute_result"
    }
   ],
   "source": [
    "vars"
   ]
  },
  {
   "cell_type": "markdown",
   "metadata": {},
   "source": [
    "### Scale the variables"
   ]
  },
  {
   "cell_type": "code",
   "execution_count": 37,
   "metadata": {},
   "outputs": [],
   "source": [
    "predicted_blt = enet_regr.predict(spfeas[x_vars])\n"
   ]
  },
  {
   "cell_type": "code",
   "execution_count": 38,
   "metadata": {},
   "outputs": [],
   "source": [
    "pred = pd.Series(predicted_blt)\n",
    "ghs['predicted'] = pred"
   ]
  },
  {
   "cell_type": "code",
   "execution_count": 39,
   "metadata": {},
   "outputs": [
    {
     "data": {
      "text/html": [
       "<div>\n",
       "<style scoped>\n",
       "    .dataframe tbody tr th:only-of-type {\n",
       "        vertical-align: middle;\n",
       "    }\n",
       "\n",
       "    .dataframe tbody tr th {\n",
       "        vertical-align: top;\n",
       "    }\n",
       "\n",
       "    .dataframe thead th {\n",
       "        text-align: right;\n",
       "    }\n",
       "</style>\n",
       "<table border=\"1\" class=\"dataframe\">\n",
       "  <thead>\n",
       "    <tr style=\"text-align: right;\">\n",
       "      <th></th>\n",
       "      <th>gnd_n</th>\n",
       "      <th>gnd_c</th>\n",
       "      <th>prov_c</th>\n",
       "      <th>dis_c</th>\n",
       "      <th>dsd_c</th>\n",
       "      <th>ghs_count</th>\n",
       "      <th>ghs_sum</th>\n",
       "      <th>ghs_mean</th>\n",
       "      <th>Shape_Area</th>\n",
       "      <th>geometry</th>\n",
       "      <th>PCNT_blt</th>\n",
       "      <th>predicted</th>\n",
       "    </tr>\n",
       "    <tr>\n",
       "      <th>gid</th>\n",
       "      <th></th>\n",
       "      <th></th>\n",
       "      <th></th>\n",
       "      <th></th>\n",
       "      <th></th>\n",
       "      <th></th>\n",
       "      <th></th>\n",
       "      <th></th>\n",
       "      <th></th>\n",
       "      <th></th>\n",
       "      <th></th>\n",
       "      <th></th>\n",
       "    </tr>\n",
       "  </thead>\n",
       "  <tbody>\n",
       "    <tr>\n",
       "      <th>43</th>\n",
       "      <td>Karagaskada South</td>\n",
       "      <td>2148065</td>\n",
       "      <td>2</td>\n",
       "      <td>21</td>\n",
       "      <td>2148</td>\n",
       "      <td>235.0</td>\n",
       "      <td>635.0</td>\n",
       "      <td>2.702128</td>\n",
       "      <td>342335.19</td>\n",
       "      <td>POLYGON ((80.70650072195758 7.176928435503455,...</td>\n",
       "      <td>2.651966</td>\n",
       "      <td>-1.281238e+09</td>\n",
       "    </tr>\n",
       "    <tr>\n",
       "      <th>564</th>\n",
       "      <td>Panvila</td>\n",
       "      <td>2115070</td>\n",
       "      <td>2</td>\n",
       "      <td>21</td>\n",
       "      <td>2115</td>\n",
       "      <td>1626.0</td>\n",
       "      <td>6326.0</td>\n",
       "      <td>3.890529</td>\n",
       "      <td>2352362.54</td>\n",
       "      <td>POLYGON ((80.73290623821237 7.36361987297315, ...</td>\n",
       "      <td>3.844773</td>\n",
       "      <td>-1.815504e+09</td>\n",
       "    </tr>\n",
       "    <tr>\n",
       "      <th>7917</th>\n",
       "      <td>Ganepalla</td>\n",
       "      <td>9227135</td>\n",
       "      <td>9</td>\n",
       "      <td>92</td>\n",
       "      <td>9227</td>\n",
       "      <td>4929.0</td>\n",
       "      <td>6929.0</td>\n",
       "      <td>1.405762</td>\n",
       "      <td>7147144.18</td>\n",
       "      <td>POLYGON ((80.36778185838672 7.016079031081547,...</td>\n",
       "      <td>1.386066</td>\n",
       "      <td>-6.685235e+09</td>\n",
       "    </tr>\n",
       "    <tr>\n",
       "      <th>2263</th>\n",
       "      <td>Akkaraipattu 11</td>\n",
       "      <td>5236065</td>\n",
       "      <td>5</td>\n",
       "      <td>52</td>\n",
       "      <td>5236</td>\n",
       "      <td>89.0</td>\n",
       "      <td>5889.0</td>\n",
       "      <td>66.168539</td>\n",
       "      <td>132541.12</td>\n",
       "      <td>POLYGON ((81.86234055205938 7.22704322335137, ...</td>\n",
       "      <td>63.523839</td>\n",
       "      <td>-8.133768e+09</td>\n",
       "    </tr>\n",
       "    <tr>\n",
       "      <th>8</th>\n",
       "      <td>Delgasthenna</td>\n",
       "      <td>2109125</td>\n",
       "      <td>2</td>\n",
       "      <td>21</td>\n",
       "      <td>2109</td>\n",
       "      <td>274.0</td>\n",
       "      <td>2874.0</td>\n",
       "      <td>10.489051</td>\n",
       "      <td>397006.47</td>\n",
       "      <td>POLYGON ((80.62702879794956 7.380156075748994,...</td>\n",
       "      <td>10.349872</td>\n",
       "      <td>-8.691500e+09</td>\n",
       "    </tr>\n",
       "  </tbody>\n",
       "</table>\n",
       "</div>"
      ],
      "text/plain": [
       "                  gnd_n    gnd_c  prov_c  dis_c  dsd_c  ghs_count  ghs_sum  \\\n",
       "gid                                                                          \n",
       "43    Karagaskada South  2148065       2     21   2148      235.0    635.0   \n",
       "564             Panvila  2115070       2     21   2115     1626.0   6326.0   \n",
       "7917          Ganepalla  9227135       9     92   9227     4929.0   6929.0   \n",
       "2263    Akkaraipattu 11  5236065       5     52   5236       89.0   5889.0   \n",
       "8          Delgasthenna  2109125       2     21   2109      274.0   2874.0   \n",
       "\n",
       "       ghs_mean  Shape_Area  \\\n",
       "gid                           \n",
       "43     2.702128   342335.19   \n",
       "564    3.890529  2352362.54   \n",
       "7917   1.405762  7147144.18   \n",
       "2263  66.168539   132541.12   \n",
       "8     10.489051   397006.47   \n",
       "\n",
       "                                               geometry   PCNT_blt  \\\n",
       "gid                                                                  \n",
       "43    POLYGON ((80.70650072195758 7.176928435503455,...   2.651966   \n",
       "564   POLYGON ((80.73290623821237 7.36361987297315, ...   3.844773   \n",
       "7917  POLYGON ((80.36778185838672 7.016079031081547,...   1.386066   \n",
       "2263  POLYGON ((81.86234055205938 7.22704322335137, ...  63.523839   \n",
       "8     POLYGON ((80.62702879794956 7.380156075748994,...  10.349872   \n",
       "\n",
       "         predicted  \n",
       "gid                 \n",
       "43   -1.281238e+09  \n",
       "564  -1.815504e+09  \n",
       "7917 -6.685235e+09  \n",
       "2263 -8.133768e+09  \n",
       "8    -8.691500e+09  "
      ]
     },
     "execution_count": 39,
     "metadata": {},
     "output_type": "execute_result"
    }
   ],
   "source": [
    "ghs.head()"
   ]
  },
  {
   "cell_type": "code",
   "execution_count": 40,
   "metadata": {},
   "outputs": [
    {
     "name": "stderr",
     "output_type": "stream",
     "text": [
      "/Users/adbe/anaconda3/lib/python3.6/site-packages/matplotlib/colors.py:512: RuntimeWarning: invalid value encountered in less\n",
      "  xa[xa < 0] = -1\n"
     ]
    },
    {
     "data": {
      "image/png": "[encoded data removed]",
      "text/plain": [
       "<Figure size 432x288 with 2 Axes>"
      ]
     },
     "metadata": {},
     "output_type": "display_data"
    }
   ],
   "source": [
    "colombo= ghs[(ghs['dis_c']==11) | (ghs['dis_c']==12)| (ghs['dis_c']==13)]\n",
    "import matplotlib.pyplot as plt\n",
    "\n",
    "fig, axes = plt.subplots(ncols=2)\n",
    "\n",
    "colombo.plot(column='PCNT_blt', cmap='OrRd',figsize=(10,8),ax=axes[0]);\n",
    "colombo.plot(column='predicted', cmap='OrRd',figsize=(10,8),ax=axes[1]);"
   ]
  },
  {
   "cell_type": "code",
   "execution_count": null,
   "metadata": {},
   "outputs": [],
   "source": []
  },
  {
   "cell_type": "code",
   "execution_count": null,
   "metadata": {},
   "outputs": [],
   "source": []
  }
 ],
 "metadata": {
  "kernelspec": {
   "display_name": "Python 3",
   "language": "python",
   "name": "python3"
  },
  "language_info": {
   "codemirror_mode": {
    "name": "ipython",
    "version": 3
   },
   "file_extension": ".py",
   "mimetype": "text/x-python",
   "name": "python",
   "nbconvert_exporter": "python",
   "pygments_lexer": "ipython3",
   "version": "3.6.6"
  }
 },
 "nbformat": 4,
 "nbformat_minor": 2
}
